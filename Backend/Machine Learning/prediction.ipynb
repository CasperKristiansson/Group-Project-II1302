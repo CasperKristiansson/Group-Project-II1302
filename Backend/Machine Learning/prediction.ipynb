{
 "cells": [
  {
   "cell_type": "code",
   "execution_count": 1,
   "metadata": {},
   "outputs": [],
   "source": [
    "import pandas\n",
    "import os\n",
    "from sklearn.model_selection import train_test_split"
   ]
  },
  {
   "cell_type": "code",
   "execution_count": 4,
   "metadata": {},
   "outputs": [
    {
     "name": "stdout",
     "output_type": "stream",
     "text": [
      "(95694, 6)\n",
      "                      date  temperature_one  temperature_two  \\\n",
      "0      1756-01-01 00:00:00             -8.0             -9.0   \n",
      "1      1756-01-02 00:00:00             -9.0             -9.0   \n",
      "2      1756-01-03 00:00:00            -10.0             -7.0   \n",
      "3      1756-01-04 00:00:00             -7.0             -8.0   \n",
      "4      1756-01-05 00:00:00             -9.0             -5.0   \n",
      "...                    ...              ...              ...   \n",
      "95689  2017-12-27 00:00:00              2.9              3.5   \n",
      "95690  2017-12-28 00:00:00              4.3              4.9   \n",
      "95691  2017-12-29 00:00:00              2.9              2.7   \n",
      "95692  2017-12-30 00:00:00              1.4              1.4   \n",
      "95693  2017-12-31 00:00:00              2.5              3.2   \n",
      "\n",
      "       temperature_three  temperature_four  temperature_five  \n",
      "0                    NaN               NaN               NaN  \n",
      "1                    NaN               NaN               NaN  \n",
      "2                    NaN               NaN               NaN  \n",
      "3                    NaN               NaN               NaN  \n",
      "4                    NaN               NaN               NaN  \n",
      "...                  ...               ...               ...  \n",
      "95689                3.1               4.4               2.6  \n",
      "95690                4.8               5.5               3.1  \n",
      "95691                3.1               4.8               2.6  \n",
      "95692                2.7               3.1               1.0  \n",
      "95693                3.1               3.4               2.3  \n",
      "\n",
      "[95694 rows x 6 columns]\n"
     ]
    }
   ],
   "source": [
    "dataframe = pandas.read_csv('..\\\\Data\\\\Processed Data\\\\Temperature.csv')\n",
    "\n",
    "print(dataframe.shape)\n",
    "print(dataframe)"
   ]
  }
 ],
 "metadata": {
  "interpreter": {
   "hash": "db5b14a1bf23f673dbb589bf56db03de2527819ab1c9bbe46a7c5fe1b1b5af0e"
  },
  "kernelspec": {
   "display_name": "Python 3.9.7 ('venv': venv)",
   "language": "python",
   "name": "python3"
  },
  "language_info": {
   "codemirror_mode": {
    "name": "ipython",
    "version": 3
   },
   "file_extension": ".py",
   "mimetype": "text/x-python",
   "name": "python",
   "nbconvert_exporter": "python",
   "pygments_lexer": "ipython3",
   "version": "3.9.7"
  },
  "orig_nbformat": 4
 },
 "nbformat": 4,
 "nbformat_minor": 2
}
