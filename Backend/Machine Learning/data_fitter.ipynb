{
 "cells": [
  {
   "cell_type": "code",
   "execution_count": 1,
   "metadata": {},
   "outputs": [
    {
     "name": "stdout",
     "output_type": "stream",
     "text": [
      "(95694, 6)\n",
      "                      date  temperature_one  temperature_two  \\\n",
      "0      1756-01-01 00:00:00             -8.0             -9.0   \n",
      "1      1756-01-02 00:00:00             -9.0             -9.0   \n",
      "2      1756-01-03 00:00:00            -10.0             -7.0   \n",
      "3      1756-01-04 00:00:00             -7.0             -8.0   \n",
      "4      1756-01-05 00:00:00             -9.0             -5.0   \n",
      "...                    ...              ...              ...   \n",
      "95689  2017-12-27 00:00:00              2.9              3.5   \n",
      "95690  2017-12-28 00:00:00              4.3              4.9   \n",
      "95691  2017-12-29 00:00:00              2.9              2.7   \n",
      "95692  2017-12-30 00:00:00              1.4              1.4   \n",
      "95693  2017-12-31 00:00:00              2.5              3.2   \n",
      "\n",
      "       temperature_three  temperature_four  temperature_five  \n",
      "0                    NaN               NaN               NaN  \n",
      "1                    NaN               NaN               NaN  \n",
      "2                    NaN               NaN               NaN  \n",
      "3                    NaN               NaN               NaN  \n",
      "4                    NaN               NaN               NaN  \n",
      "...                  ...               ...               ...  \n",
      "95689                3.1               4.4               2.6  \n",
      "95690                4.8               5.5               3.1  \n",
      "95691                3.1               4.8               2.6  \n",
      "95692                2.7               3.1               1.0  \n",
      "95693                3.1               3.4               2.3  \n",
      "\n",
      "[95694 rows x 6 columns]\n"
     ]
    }
   ],
   "source": [
    "import pandas\n",
    "\n",
    "dataframe_temperature = pandas.read_csv('..\\\\Data\\\\Processed Data\\\\Temperature.csv')\n",
    "\n",
    "print(dataframe_temperature.shape)\n",
    "print(dataframe_temperature)"
   ]
  },
  {
   "cell_type": "code",
   "execution_count": 9,
   "metadata": {},
   "outputs": [],
   "source": [
    "import math\n",
    "import datetime\n",
    "\n",
    "dataframe_result = pandas.DataFrame(columns=['Date', 'Temperature', 'Mean'])\n",
    "result = []\n",
    "\n",
    "for index, row in dataframe_temperature.iterrows():\n",
    "    time = datetime.datetime.strptime(row['date'], '%Y-%m-%d %H:%M:%S')\n",
    "    data = []\n",
    "    length = 0\n",
    "    mean = 0\n",
    "    for value in row:\n",
    "        if type(value) == float and not math.isnan(value):\n",
    "            length += 1\n",
    "            mean += value\n",
    "\n",
    "    if length == 0:\n",
    "        continue\n",
    "    \n",
    "    mean = mean / length\n",
    "    time_difference = 24 / length\n",
    "\n",
    "    for value in row:\n",
    "        if type(value) == float and not math.isnan(value):\n",
    "            data.append(\n",
    "                [time, value, mean]\n",
    "            )\n",
    "            time += datetime.timedelta(hours=time_difference)\n",
    "\n",
    "    result.append(\n",
    "        pandas.DataFrame(data, columns=['Date', 'Temperature', 'Mean'])\n",
    "    )\n",
    "\n",
    "dataframe_result = pandas.concat(result)"
   ]
  },
  {
   "cell_type": "code",
   "execution_count": 11,
   "metadata": {},
   "outputs": [
    {
     "name": "stdout",
     "output_type": "stream",
     "text": [
      "                  Date  Temperature  Mean\n",
      "0  1756-01-01 00:00:00         -8.0  -8.5\n",
      "1  1756-01-01 12:00:00         -9.0  -8.5\n",
      "0  1756-01-02 00:00:00         -9.0  -9.0\n",
      "1  1756-01-02 12:00:00         -9.0  -9.0\n",
      "0  1756-01-03 00:00:00        -10.0  -8.5\n",
      "..                 ...          ...   ...\n",
      "0  2017-12-31 00:00:00          2.5   2.9\n",
      "1  2017-12-31 04:48:00          3.2   2.9\n",
      "2  2017-12-31 09:36:00          3.1   2.9\n",
      "3  2017-12-31 14:24:00          3.4   2.9\n",
      "4  2017-12-31 19:12:00          2.3   2.9\n",
      "\n",
      "[401113 rows x 3 columns]\n"
     ]
    }
   ],
   "source": [
    "print(dataframe_result)\n",
    "dataframe_result.to_csv('..\\\\Data\\\\Processed Data\\\\Temperature_cleaned.csv', index=False)"
   ]
  },
  {
   "cell_type": "code",
   "execution_count": null,
   "metadata": {},
   "outputs": [],
   "source": []
  }
 ],
 "metadata": {
  "interpreter": {
   "hash": "db5b14a1bf23f673dbb589bf56db03de2527819ab1c9bbe46a7c5fe1b1b5af0e"
  },
  "kernelspec": {
   "display_name": "Python 3.9.7 ('venv': venv)",
   "language": "python",
   "name": "python3"
  },
  "language_info": {
   "codemirror_mode": {
    "name": "ipython",
    "version": 3
   },
   "file_extension": ".py",
   "mimetype": "text/x-python",
   "name": "python",
   "nbconvert_exporter": "python",
   "pygments_lexer": "ipython3",
   "version": "3.9.7"
  },
  "orig_nbformat": 4
 },
 "nbformat": 4,
 "nbformat_minor": 2
}
