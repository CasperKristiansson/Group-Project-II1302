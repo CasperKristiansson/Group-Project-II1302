{
 "cells": [
  {
   "cell_type": "markdown",
   "metadata": {},
   "source": [
    "__author__ = \"Casper Kristiansson\"\n",
    "__copyright__ = \"WeatherBrain\"\n",
    "\n",
    "__maintainer__ = \"Casper Kristiansson\"\n",
    "__email__ = \"casperkr@kth.se\"\n",
    "__status__ = \"Development\""
   ]
  },
  {
   "cell_type": "code",
   "execution_count": 80,
   "metadata": {},
   "outputs": [
    {
     "name": "stdout",
     "output_type": "stream",
     "text": [
      "(95694, 6)\n",
      "                      date  temperature_one  temperature_two  \\\n",
      "0      1756-01-01 00:00:00             -8.0             -9.0   \n",
      "1      1756-01-02 00:00:00             -9.0             -9.0   \n",
      "2      1756-01-03 00:00:00            -10.0             -7.0   \n",
      "3      1756-01-04 00:00:00             -7.0             -8.0   \n",
      "4      1756-01-05 00:00:00             -9.0             -5.0   \n",
      "...                    ...              ...              ...   \n",
      "95689  2017-12-27 00:00:00              2.9              3.5   \n",
      "95690  2017-12-28 00:00:00              4.3              4.9   \n",
      "95691  2017-12-29 00:00:00              2.9              2.7   \n",
      "95692  2017-12-30 00:00:00              1.4              1.4   \n",
      "95693  2017-12-31 00:00:00              2.5              3.2   \n",
      "\n",
      "       temperature_three  temperature_four  temperature_five  \n",
      "0                    NaN               NaN               NaN  \n",
      "1                    NaN               NaN               NaN  \n",
      "2                    NaN               NaN               NaN  \n",
      "3                    NaN               NaN               NaN  \n",
      "4                    NaN               NaN               NaN  \n",
      "...                  ...               ...               ...  \n",
      "95689                3.1               4.4               2.6  \n",
      "95690                4.8               5.5               3.1  \n",
      "95691                3.1               4.8               2.6  \n",
      "95692                2.7               3.1               1.0  \n",
      "95693                3.1               3.4               2.3  \n",
      "\n",
      "[95694 rows x 6 columns]\n"
     ]
    }
   ],
   "source": [
    "import pandas\n",
    "\n",
    "dataframe_temperature = pandas.read_csv('..\\\\Data\\\\Processed Data\\\\Temperature.csv')\n",
    "dataframe_hpa = pandas.read_csv('..\\\\Data\\\\Processed Data\\\\hPa.csv')\n",
    "\n",
    "print(dataframe_temperature.shape)\n",
    "print(dataframe_temperature)"
   ]
  },
  {
   "cell_type": "code",
   "execution_count": 81,
   "metadata": {},
   "outputs": [
    {
     "name": "stdout",
     "output_type": "stream",
     "text": [
      "1020.15 [1018.5, nan, 1021.8]\n"
     ]
    }
   ],
   "source": [
    "row_hpa = dataframe_hpa.iloc[10000]\n",
    "mean_hpa = np.nanmean([row_hpa['hPa_one'], row_hpa['hPa_two'], row_hpa['hPa_three']])\n",
    "print(mean_hpa, [row_hpa['hPa_one'], row_hpa['hPa_two'], row_hpa['hPa_three']])"
   ]
  },
  {
   "cell_type": "code",
   "execution_count": 82,
   "metadata": {},
   "outputs": [
    {
     "ename": "KeyboardInterrupt",
     "evalue": "",
     "output_type": "error",
     "traceback": [
      "\u001b[1;31m---------------------------------------------------------------------------\u001b[0m",
      "\u001b[1;31mKeyboardInterrupt\u001b[0m                         Traceback (most recent call last)",
      "\u001b[1;32mc:\\Users\\caspe\\OneDrive\\Documents\\Universitet\\Year 2\\II1302 Projects and Project Methods\\Weather-Predictor\\Backend\\Machine Learning\\data_fitter.ipynb Cell 4'\u001b[0m in \u001b[0;36m<cell line: 7>\u001b[1;34m()\u001b[0m\n\u001b[0;32m     <a href='vscode-notebook-cell:/c%3A/Users/caspe/OneDrive/Documents/Universitet/Year%202/II1302%20Projects%20and%20Project%20Methods/Weather-Predictor/Backend/Machine%20Learning/data_fitter.ipynb#ch0000001?line=31'>32</a>\u001b[0m             data\u001b[39m.\u001b[39mappend(\n\u001b[0;32m     <a href='vscode-notebook-cell:/c%3A/Users/caspe/OneDrive/Documents/Universitet/Year%202/II1302%20Projects%20and%20Project%20Methods/Weather-Predictor/Backend/Machine%20Learning/data_fitter.ipynb#ch0000001?line=32'>33</a>\u001b[0m                 [time, value, mean, mean_hpa]\n\u001b[0;32m     <a href='vscode-notebook-cell:/c%3A/Users/caspe/OneDrive/Documents/Universitet/Year%202/II1302%20Projects%20and%20Project%20Methods/Weather-Predictor/Backend/Machine%20Learning/data_fitter.ipynb#ch0000001?line=33'>34</a>\u001b[0m             )\n\u001b[0;32m     <a href='vscode-notebook-cell:/c%3A/Users/caspe/OneDrive/Documents/Universitet/Year%202/II1302%20Projects%20and%20Project%20Methods/Weather-Predictor/Backend/Machine%20Learning/data_fitter.ipynb#ch0000001?line=34'>35</a>\u001b[0m             time \u001b[39m+\u001b[39m\u001b[39m=\u001b[39m datetime\u001b[39m.\u001b[39mtimedelta(hours\u001b[39m=\u001b[39mtime_difference)\n\u001b[0;32m     <a href='vscode-notebook-cell:/c%3A/Users/caspe/OneDrive/Documents/Universitet/Year%202/II1302%20Projects%20and%20Project%20Methods/Weather-Predictor/Backend/Machine%20Learning/data_fitter.ipynb#ch0000001?line=36'>37</a>\u001b[0m     result\u001b[39m.\u001b[39mappend(\n\u001b[1;32m---> <a href='vscode-notebook-cell:/c%3A/Users/caspe/OneDrive/Documents/Universitet/Year%202/II1302%20Projects%20and%20Project%20Methods/Weather-Predictor/Backend/Machine%20Learning/data_fitter.ipynb#ch0000001?line=37'>38</a>\u001b[0m         pandas\u001b[39m.\u001b[39;49mDataFrame(data, columns\u001b[39m=\u001b[39;49m[\u001b[39m'\u001b[39;49m\u001b[39mDate\u001b[39;49m\u001b[39m'\u001b[39;49m, \u001b[39m'\u001b[39;49m\u001b[39mTemperature\u001b[39;49m\u001b[39m'\u001b[39;49m, \u001b[39m'\u001b[39;49m\u001b[39mMean Temperature\u001b[39;49m\u001b[39m'\u001b[39;49m, \u001b[39m'\u001b[39;49m\u001b[39mMean hPa\u001b[39;49m\u001b[39m'\u001b[39;49m])\n\u001b[0;32m     <a href='vscode-notebook-cell:/c%3A/Users/caspe/OneDrive/Documents/Universitet/Year%202/II1302%20Projects%20and%20Project%20Methods/Weather-Predictor/Backend/Machine%20Learning/data_fitter.ipynb#ch0000001?line=38'>39</a>\u001b[0m     )\n\u001b[0;32m     <a href='vscode-notebook-cell:/c%3A/Users/caspe/OneDrive/Documents/Universitet/Year%202/II1302%20Projects%20and%20Project%20Methods/Weather-Predictor/Backend/Machine%20Learning/data_fitter.ipynb#ch0000001?line=40'>41</a>\u001b[0m dataframe_result \u001b[39m=\u001b[39m pandas\u001b[39m.\u001b[39mconcat(result)\n",
      "File \u001b[1;32mc:\\Users\\caspe\\OneDrive\\Documents\\Universitet\\Year 2\\II1302 Projects and Project Methods\\Weather-Predictor\\Backend\\Machine Learning\\venv\\lib\\site-packages\\pandas\\core\\frame.py:729\u001b[0m, in \u001b[0;36mDataFrame.__init__\u001b[1;34m(self, data, index, columns, dtype, copy)\u001b[0m\n\u001b[0;32m    <a href='file:///c%3A/Users/caspe/OneDrive/Documents/Universitet/Year%202/II1302%20Projects%20and%20Project%20Methods/Weather-Predictor/Backend/Machine%20Learning/venv/lib/site-packages/pandas/core/frame.py?line=719'>720</a>\u001b[0m         columns \u001b[39m=\u001b[39m ensure_index(columns)  \u001b[39m# type: ignore[arg-type]\u001b[39;00m\n\u001b[0;32m    <a href='file:///c%3A/Users/caspe/OneDrive/Documents/Universitet/Year%202/II1302%20Projects%20and%20Project%20Methods/Weather-Predictor/Backend/Machine%20Learning/venv/lib/site-packages/pandas/core/frame.py?line=720'>721</a>\u001b[0m     arrays, columns, index \u001b[39m=\u001b[39m nested_data_to_arrays(\n\u001b[0;32m    <a href='file:///c%3A/Users/caspe/OneDrive/Documents/Universitet/Year%202/II1302%20Projects%20and%20Project%20Methods/Weather-Predictor/Backend/Machine%20Learning/venv/lib/site-packages/pandas/core/frame.py?line=721'>722</a>\u001b[0m         \u001b[39m# error: Argument 3 to \"nested_data_to_arrays\" has incompatible\u001b[39;00m\n\u001b[0;32m    <a href='file:///c%3A/Users/caspe/OneDrive/Documents/Universitet/Year%202/II1302%20Projects%20and%20Project%20Methods/Weather-Predictor/Backend/Machine%20Learning/venv/lib/site-packages/pandas/core/frame.py?line=722'>723</a>\u001b[0m         \u001b[39m# type \"Optional[Collection[Any]]\"; expected \"Optional[Index]\"\u001b[39;00m\n\u001b[1;32m   (...)\u001b[0m\n\u001b[0;32m    <a href='file:///c%3A/Users/caspe/OneDrive/Documents/Universitet/Year%202/II1302%20Projects%20and%20Project%20Methods/Weather-Predictor/Backend/Machine%20Learning/venv/lib/site-packages/pandas/core/frame.py?line=726'>727</a>\u001b[0m         dtype,\n\u001b[0;32m    <a href='file:///c%3A/Users/caspe/OneDrive/Documents/Universitet/Year%202/II1302%20Projects%20and%20Project%20Methods/Weather-Predictor/Backend/Machine%20Learning/venv/lib/site-packages/pandas/core/frame.py?line=727'>728</a>\u001b[0m     )\n\u001b[1;32m--> <a href='file:///c%3A/Users/caspe/OneDrive/Documents/Universitet/Year%202/II1302%20Projects%20and%20Project%20Methods/Weather-Predictor/Backend/Machine%20Learning/venv/lib/site-packages/pandas/core/frame.py?line=728'>729</a>\u001b[0m     mgr \u001b[39m=\u001b[39m arrays_to_mgr(\n\u001b[0;32m    <a href='file:///c%3A/Users/caspe/OneDrive/Documents/Universitet/Year%202/II1302%20Projects%20and%20Project%20Methods/Weather-Predictor/Backend/Machine%20Learning/venv/lib/site-packages/pandas/core/frame.py?line=729'>730</a>\u001b[0m         arrays,\n\u001b[0;32m    <a href='file:///c%3A/Users/caspe/OneDrive/Documents/Universitet/Year%202/II1302%20Projects%20and%20Project%20Methods/Weather-Predictor/Backend/Machine%20Learning/venv/lib/site-packages/pandas/core/frame.py?line=730'>731</a>\u001b[0m         columns,\n\u001b[0;32m    <a href='file:///c%3A/Users/caspe/OneDrive/Documents/Universitet/Year%202/II1302%20Projects%20and%20Project%20Methods/Weather-Predictor/Backend/Machine%20Learning/venv/lib/site-packages/pandas/core/frame.py?line=731'>732</a>\u001b[0m         index,\n\u001b[0;32m    <a href='file:///c%3A/Users/caspe/OneDrive/Documents/Universitet/Year%202/II1302%20Projects%20and%20Project%20Methods/Weather-Predictor/Backend/Machine%20Learning/venv/lib/site-packages/pandas/core/frame.py?line=732'>733</a>\u001b[0m         dtype\u001b[39m=\u001b[39;49mdtype,\n\u001b[0;32m    <a href='file:///c%3A/Users/caspe/OneDrive/Documents/Universitet/Year%202/II1302%20Projects%20and%20Project%20Methods/Weather-Predictor/Backend/Machine%20Learning/venv/lib/site-packages/pandas/core/frame.py?line=733'>734</a>\u001b[0m         typ\u001b[39m=\u001b[39;49mmanager,\n\u001b[0;32m    <a href='file:///c%3A/Users/caspe/OneDrive/Documents/Universitet/Year%202/II1302%20Projects%20and%20Project%20Methods/Weather-Predictor/Backend/Machine%20Learning/venv/lib/site-packages/pandas/core/frame.py?line=734'>735</a>\u001b[0m     )\n\u001b[0;32m    <a href='file:///c%3A/Users/caspe/OneDrive/Documents/Universitet/Year%202/II1302%20Projects%20and%20Project%20Methods/Weather-Predictor/Backend/Machine%20Learning/venv/lib/site-packages/pandas/core/frame.py?line=735'>736</a>\u001b[0m \u001b[39melse\u001b[39;00m:\n\u001b[0;32m    <a href='file:///c%3A/Users/caspe/OneDrive/Documents/Universitet/Year%202/II1302%20Projects%20and%20Project%20Methods/Weather-Predictor/Backend/Machine%20Learning/venv/lib/site-packages/pandas/core/frame.py?line=736'>737</a>\u001b[0m     mgr \u001b[39m=\u001b[39m ndarray_to_mgr(\n\u001b[0;32m    <a href='file:///c%3A/Users/caspe/OneDrive/Documents/Universitet/Year%202/II1302%20Projects%20and%20Project%20Methods/Weather-Predictor/Backend/Machine%20Learning/venv/lib/site-packages/pandas/core/frame.py?line=737'>738</a>\u001b[0m         data,\n\u001b[0;32m    <a href='file:///c%3A/Users/caspe/OneDrive/Documents/Universitet/Year%202/II1302%20Projects%20and%20Project%20Methods/Weather-Predictor/Backend/Machine%20Learning/venv/lib/site-packages/pandas/core/frame.py?line=738'>739</a>\u001b[0m         index,\n\u001b[1;32m   (...)\u001b[0m\n\u001b[0;32m    <a href='file:///c%3A/Users/caspe/OneDrive/Documents/Universitet/Year%202/II1302%20Projects%20and%20Project%20Methods/Weather-Predictor/Backend/Machine%20Learning/venv/lib/site-packages/pandas/core/frame.py?line=742'>743</a>\u001b[0m         typ\u001b[39m=\u001b[39mmanager,\n\u001b[0;32m    <a href='file:///c%3A/Users/caspe/OneDrive/Documents/Universitet/Year%202/II1302%20Projects%20and%20Project%20Methods/Weather-Predictor/Backend/Machine%20Learning/venv/lib/site-packages/pandas/core/frame.py?line=743'>744</a>\u001b[0m     )\n",
      "File \u001b[1;32mc:\\Users\\caspe\\OneDrive\\Documents\\Universitet\\Year 2\\II1302 Projects and Project Methods\\Weather-Predictor\\Backend\\Machine Learning\\venv\\lib\\site-packages\\pandas\\core\\internals\\construction.py:156\u001b[0m, in \u001b[0;36marrays_to_mgr\u001b[1;34m(arrays, columns, index, dtype, verify_integrity, typ, consolidate)\u001b[0m\n\u001b[0;32m    <a href='file:///c%3A/Users/caspe/OneDrive/Documents/Universitet/Year%202/II1302%20Projects%20and%20Project%20Methods/Weather-Predictor/Backend/Machine%20Learning/venv/lib/site-packages/pandas/core/internals/construction.py?line=152'>153</a>\u001b[0m axes \u001b[39m=\u001b[39m [columns, index]\n\u001b[0;32m    <a href='file:///c%3A/Users/caspe/OneDrive/Documents/Universitet/Year%202/II1302%20Projects%20and%20Project%20Methods/Weather-Predictor/Backend/Machine%20Learning/venv/lib/site-packages/pandas/core/internals/construction.py?line=154'>155</a>\u001b[0m \u001b[39mif\u001b[39;00m typ \u001b[39m==\u001b[39m \u001b[39m\"\u001b[39m\u001b[39mblock\u001b[39m\u001b[39m\"\u001b[39m:\n\u001b[1;32m--> <a href='file:///c%3A/Users/caspe/OneDrive/Documents/Universitet/Year%202/II1302%20Projects%20and%20Project%20Methods/Weather-Predictor/Backend/Machine%20Learning/venv/lib/site-packages/pandas/core/internals/construction.py?line=155'>156</a>\u001b[0m     \u001b[39mreturn\u001b[39;00m create_block_manager_from_column_arrays(\n\u001b[0;32m    <a href='file:///c%3A/Users/caspe/OneDrive/Documents/Universitet/Year%202/II1302%20Projects%20and%20Project%20Methods/Weather-Predictor/Backend/Machine%20Learning/venv/lib/site-packages/pandas/core/internals/construction.py?line=156'>157</a>\u001b[0m         arrays, axes, consolidate\u001b[39m=\u001b[39;49mconsolidate\n\u001b[0;32m    <a href='file:///c%3A/Users/caspe/OneDrive/Documents/Universitet/Year%202/II1302%20Projects%20and%20Project%20Methods/Weather-Predictor/Backend/Machine%20Learning/venv/lib/site-packages/pandas/core/internals/construction.py?line=157'>158</a>\u001b[0m     )\n\u001b[0;32m    <a href='file:///c%3A/Users/caspe/OneDrive/Documents/Universitet/Year%202/II1302%20Projects%20and%20Project%20Methods/Weather-Predictor/Backend/Machine%20Learning/venv/lib/site-packages/pandas/core/internals/construction.py?line=158'>159</a>\u001b[0m \u001b[39melif\u001b[39;00m typ \u001b[39m==\u001b[39m \u001b[39m\"\u001b[39m\u001b[39marray\u001b[39m\u001b[39m\"\u001b[39m:\n\u001b[0;32m    <a href='file:///c%3A/Users/caspe/OneDrive/Documents/Universitet/Year%202/II1302%20Projects%20and%20Project%20Methods/Weather-Predictor/Backend/Machine%20Learning/venv/lib/site-packages/pandas/core/internals/construction.py?line=159'>160</a>\u001b[0m     \u001b[39mreturn\u001b[39;00m ArrayManager(arrays, [index, columns])\n",
      "File \u001b[1;32mc:\\Users\\caspe\\OneDrive\\Documents\\Universitet\\Year 2\\II1302 Projects and Project Methods\\Weather-Predictor\\Backend\\Machine Learning\\venv\\lib\\site-packages\\pandas\\core\\internals\\managers.py:1954\u001b[0m, in \u001b[0;36mcreate_block_manager_from_column_arrays\u001b[1;34m(arrays, axes, consolidate)\u001b[0m\n\u001b[0;32m   <a href='file:///c%3A/Users/caspe/OneDrive/Documents/Universitet/Year%202/II1302%20Projects%20and%20Project%20Methods/Weather-Predictor/Backend/Machine%20Learning/venv/lib/site-packages/pandas/core/internals/managers.py?line=1936'>1937</a>\u001b[0m \u001b[39mdef\u001b[39;00m \u001b[39mcreate_block_manager_from_column_arrays\u001b[39m(\n\u001b[0;32m   <a href='file:///c%3A/Users/caspe/OneDrive/Documents/Universitet/Year%202/II1302%20Projects%20and%20Project%20Methods/Weather-Predictor/Backend/Machine%20Learning/venv/lib/site-packages/pandas/core/internals/managers.py?line=1937'>1938</a>\u001b[0m     arrays: \u001b[39mlist\u001b[39m[ArrayLike],\n\u001b[0;32m   <a href='file:///c%3A/Users/caspe/OneDrive/Documents/Universitet/Year%202/II1302%20Projects%20and%20Project%20Methods/Weather-Predictor/Backend/Machine%20Learning/venv/lib/site-packages/pandas/core/internals/managers.py?line=1938'>1939</a>\u001b[0m     axes: \u001b[39mlist\u001b[39m[Index],\n\u001b[1;32m   (...)\u001b[0m\n\u001b[0;32m   <a href='file:///c%3A/Users/caspe/OneDrive/Documents/Universitet/Year%202/II1302%20Projects%20and%20Project%20Methods/Weather-Predictor/Backend/Machine%20Learning/venv/lib/site-packages/pandas/core/internals/managers.py?line=1949'>1950</a>\u001b[0m     \u001b[39m# These last three are sufficient to allow us to safely pass\u001b[39;00m\n\u001b[0;32m   <a href='file:///c%3A/Users/caspe/OneDrive/Documents/Universitet/Year%202/II1302%20Projects%20and%20Project%20Methods/Weather-Predictor/Backend/Machine%20Learning/venv/lib/site-packages/pandas/core/internals/managers.py?line=1950'>1951</a>\u001b[0m     \u001b[39m#  verify_integrity=False below.\u001b[39;00m\n\u001b[0;32m   <a href='file:///c%3A/Users/caspe/OneDrive/Documents/Universitet/Year%202/II1302%20Projects%20and%20Project%20Methods/Weather-Predictor/Backend/Machine%20Learning/venv/lib/site-packages/pandas/core/internals/managers.py?line=1952'>1953</a>\u001b[0m     \u001b[39mtry\u001b[39;00m:\n\u001b[1;32m-> <a href='file:///c%3A/Users/caspe/OneDrive/Documents/Universitet/Year%202/II1302%20Projects%20and%20Project%20Methods/Weather-Predictor/Backend/Machine%20Learning/venv/lib/site-packages/pandas/core/internals/managers.py?line=1953'>1954</a>\u001b[0m         blocks \u001b[39m=\u001b[39m _form_blocks(arrays, consolidate)\n\u001b[0;32m   <a href='file:///c%3A/Users/caspe/OneDrive/Documents/Universitet/Year%202/II1302%20Projects%20and%20Project%20Methods/Weather-Predictor/Backend/Machine%20Learning/venv/lib/site-packages/pandas/core/internals/managers.py?line=1954'>1955</a>\u001b[0m         mgr \u001b[39m=\u001b[39m BlockManager(blocks, axes, verify_integrity\u001b[39m=\u001b[39m\u001b[39mFalse\u001b[39;00m)\n\u001b[0;32m   <a href='file:///c%3A/Users/caspe/OneDrive/Documents/Universitet/Year%202/II1302%20Projects%20and%20Project%20Methods/Weather-Predictor/Backend/Machine%20Learning/venv/lib/site-packages/pandas/core/internals/managers.py?line=1955'>1956</a>\u001b[0m     \u001b[39mexcept\u001b[39;00m \u001b[39mValueError\u001b[39;00m \u001b[39mas\u001b[39;00m e:\n",
      "File \u001b[1;32mc:\\Users\\caspe\\OneDrive\\Documents\\Universitet\\Year 2\\II1302 Projects and Project Methods\\Weather-Predictor\\Backend\\Machine Learning\\venv\\lib\\site-packages\\pandas\\core\\internals\\managers.py:2028\u001b[0m, in \u001b[0;36m_form_blocks\u001b[1;34m(arrays, consolidate)\u001b[0m\n\u001b[0;32m   <a href='file:///c%3A/Users/caspe/OneDrive/Documents/Universitet/Year%202/II1302%20Projects%20and%20Project%20Methods/Weather-Predictor/Backend/Machine%20Learning/venv/lib/site-packages/pandas/core/internals/managers.py?line=2024'>2025</a>\u001b[0m \u001b[39mif\u001b[39;00m \u001b[39missubclass\u001b[39m(dtype\u001b[39m.\u001b[39mtype, (\u001b[39mstr\u001b[39m, \u001b[39mbytes\u001b[39m)):\n\u001b[0;32m   <a href='file:///c%3A/Users/caspe/OneDrive/Documents/Universitet/Year%202/II1302%20Projects%20and%20Project%20Methods/Weather-Predictor/Backend/Machine%20Learning/venv/lib/site-packages/pandas/core/internals/managers.py?line=2025'>2026</a>\u001b[0m     dtype \u001b[39m=\u001b[39m np\u001b[39m.\u001b[39mdtype(\u001b[39mobject\u001b[39m)\n\u001b[1;32m-> <a href='file:///c%3A/Users/caspe/OneDrive/Documents/Universitet/Year%202/II1302%20Projects%20and%20Project%20Methods/Weather-Predictor/Backend/Machine%20Learning/venv/lib/site-packages/pandas/core/internals/managers.py?line=2027'>2028</a>\u001b[0m values, placement \u001b[39m=\u001b[39m _stack_arrays(\u001b[39mlist\u001b[39;49m(tup_block), dtype)\n\u001b[0;32m   <a href='file:///c%3A/Users/caspe/OneDrive/Documents/Universitet/Year%202/II1302%20Projects%20and%20Project%20Methods/Weather-Predictor/Backend/Machine%20Learning/venv/lib/site-packages/pandas/core/internals/managers.py?line=2028'>2029</a>\u001b[0m \u001b[39mif\u001b[39;00m is_dtlike:\n\u001b[0;32m   <a href='file:///c%3A/Users/caspe/OneDrive/Documents/Universitet/Year%202/II1302%20Projects%20and%20Project%20Methods/Weather-Predictor/Backend/Machine%20Learning/venv/lib/site-packages/pandas/core/internals/managers.py?line=2029'>2030</a>\u001b[0m     values \u001b[39m=\u001b[39m ensure_wrapped_if_datetimelike(values)\n",
      "File \u001b[1;32mc:\\Users\\caspe\\OneDrive\\Documents\\Universitet\\Year 2\\II1302 Projects and Project Methods\\Weather-Predictor\\Backend\\Machine Learning\\venv\\lib\\site-packages\\pandas\\core\\internals\\managers.py:2069\u001b[0m, in \u001b[0;36m_stack_arrays\u001b[1;34m(tuples, dtype)\u001b[0m\n\u001b[0;32m   <a href='file:///c%3A/Users/caspe/OneDrive/Documents/Universitet/Year%202/II1302%20Projects%20and%20Project%20Methods/Weather-Predictor/Backend/Machine%20Learning/venv/lib/site-packages/pandas/core/internals/managers.py?line=2066'>2067</a>\u001b[0m stacked \u001b[39m=\u001b[39m np\u001b[39m.\u001b[39mempty(shape, dtype\u001b[39m=\u001b[39mdtype)\n\u001b[0;32m   <a href='file:///c%3A/Users/caspe/OneDrive/Documents/Universitet/Year%202/II1302%20Projects%20and%20Project%20Methods/Weather-Predictor/Backend/Machine%20Learning/venv/lib/site-packages/pandas/core/internals/managers.py?line=2067'>2068</a>\u001b[0m \u001b[39mfor\u001b[39;00m i, arr \u001b[39min\u001b[39;00m \u001b[39menumerate\u001b[39m(arrays):\n\u001b[1;32m-> <a href='file:///c%3A/Users/caspe/OneDrive/Documents/Universitet/Year%202/II1302%20Projects%20and%20Project%20Methods/Weather-Predictor/Backend/Machine%20Learning/venv/lib/site-packages/pandas/core/internals/managers.py?line=2068'>2069</a>\u001b[0m     stacked[i] \u001b[39m=\u001b[39m arr\n\u001b[0;32m   <a href='file:///c%3A/Users/caspe/OneDrive/Documents/Universitet/Year%202/II1302%20Projects%20and%20Project%20Methods/Weather-Predictor/Backend/Machine%20Learning/venv/lib/site-packages/pandas/core/internals/managers.py?line=2070'>2071</a>\u001b[0m \u001b[39mreturn\u001b[39;00m stacked, placement\n",
      "\u001b[1;31mKeyboardInterrupt\u001b[0m: "
     ]
    }
   ],
   "source": [
    "import math\n",
    "import datetime\n",
    "import numpy as np\n",
    "\n",
    "result = []\n",
    "\n",
    "for index, row in dataframe_temperature.iterrows():\n",
    "    time = datetime.datetime.strptime(row['date'], '%Y-%m-%d %H:%M:%S')\n",
    "    data = []\n",
    "    length = 0\n",
    "    mean = 0\n",
    "    for value in row:\n",
    "        if type(value) == float and not math.isnan(value):\n",
    "            length += 1\n",
    "            mean += value\n",
    "\n",
    "    if length == 0:\n",
    "        continue\n",
    "    \n",
    "    mean = mean / length\n",
    "    time_difference = 24 / length\n",
    "\n",
    "    row_hpa = dataframe_hpa.iloc[index]\n",
    "\n",
    "    if all(np.isnan(x) for x in [row_hpa['hPa_one'], row_hpa['hPa_two'], row_hpa['hPa_three']]):\n",
    "        mean_hpa = np.nan\n",
    "    else:\n",
    "        mean_hpa = np.nanmean([row_hpa['hPa_one'], row_hpa['hPa_two'], row_hpa['hPa_three']])\n",
    "    \n",
    "    for value in row:\n",
    "        if type(value) == float and not math.isnan(value):\n",
    "            data.append(\n",
    "                [time, value, mean, mean_hpa]\n",
    "            )\n",
    "            time += datetime.timedelta(hours=time_difference)\n",
    "\n",
    "    result.append(\n",
    "        pandas.DataFrame(data, columns=['Date', 'Temperature', 'Mean Temperature', 'Mean hPa'])\n",
    "    )\n",
    "\n",
    "dataframe_result = pandas.concat(result)"
   ]
  },
  {
   "cell_type": "code",
   "execution_count": 79,
   "metadata": {},
   "outputs": [
    {
     "name": "stdout",
     "output_type": "stream",
     "text": [
      "                  Date  Temperature  Mean Temperature     Mean hPa\n",
      "0  1756-01-01 00:00:00         -8.0              -8.5  1003.000000\n",
      "1  1756-01-01 12:00:00         -9.0              -8.5  1003.000000\n",
      "0  1756-01-02 00:00:00         -9.0              -9.0  1009.800000\n",
      "1  1756-01-02 12:00:00         -9.0              -9.0  1009.800000\n",
      "0  1756-01-03 00:00:00        -10.0              -8.5  1012.650000\n",
      "..                 ...          ...               ...          ...\n",
      "0  2017-12-31 00:00:00          2.5               2.9   997.866667\n",
      "1  2017-12-31 04:48:00          3.2               2.9   997.866667\n",
      "2  2017-12-31 09:36:00          3.1               2.9   997.866667\n",
      "3  2017-12-31 14:24:00          3.4               2.9   997.866667\n",
      "4  2017-12-31 19:12:00          2.3               2.9   997.866667\n",
      "\n",
      "[401113 rows x 4 columns]\n"
     ]
    }
   ],
   "source": [
    "print(dataframe_result)\n",
    "dataframe_result.to_csv('..\\\\Data\\\\Processed Data\\\\Combined Cleaned.csv', index=False)"
   ]
  },
  {
   "cell_type": "code",
   "execution_count": 65,
   "metadata": {},
   "outputs": [
    {
     "name": "stdout",
     "output_type": "stream",
     "text": [
      "Index(['Date', 'Temperature', 'Mean'], dtype='object')\n",
      "Index(['date', 'hPa_one', 'hPa_two', 'hPa_three'], dtype='object')\n"
     ]
    }
   ],
   "source": [
    "dataframe_result = pandas.read_csv('..\\\\Data\\\\Processed Data\\\\Temperature_cleaned.csv')\n",
    "dataframe_hpa = pandas.read_csv('..\\\\Data\\\\Processed Data\\\\hPa.csv')\n",
    "\n",
    "print(dataframe_result.columns)\n",
    "print(dataframe_hpa.columns)"
   ]
  },
  {
   "cell_type": "code",
   "execution_count": 66,
   "metadata": {},
   "outputs": [],
   "source": [
    "import datetime\n",
    "\n",
    "for index, row in dataframe_result.iterrows():\n",
    "    dataframe_result.at[index, 'Date'] = datetime.datetime.strptime(row['Date'], '%Y-%m-%d %H:%M:%S')\n",
    "\n",
    "for index, row in dataframe_hpa.iterrows():\n",
    "    dataframe_hpa.at[index, 'date'] = datetime.datetime.strptime(row['date'], '%Y-%m-%d').date()"
   ]
  },
  {
   "cell_type": "code",
   "execution_count": null,
   "metadata": {},
   "outputs": [],
   "source": [
    "import datetime\n",
    "result = []\n",
    "\n",
    "for index_hpa, row_hpa in dataframe_hpa.iterrows():\n",
    "    mean = (row_hpa['hPa_one'] + row_hpa['hPa_two'] + row_hpa['hPa_three']) / 3\n",
    "    search = False\n",
    "    for index_temp, row_temp in dataframe_result.iterrows():\n",
    "        if row_temp['Date'].year == row_hpa['date'].year and row_temp['Date'].month == row_hpa['date'].month and row_temp['Date'].day == row_hpa['date'].day:\n",
    "            search = True\n",
    "            result.append(\n",
    "                pandas.DataFrame([[row_temp['Date'], row_temp['Temperature'], row_temp['Mean'], mean]], columns=['Date', 'Temperature', 'Mean', 'hPa'])\n",
    "            )\n",
    "        elif search:\n",
    "            break\n",
    "    \n",
    "    if index_hpa % 1000 == 0:\n",
    "        print(f'{index_hpa}/{len(dataframe_hpa)}')"
   ]
  },
  {
   "cell_type": "code",
   "execution_count": 67,
   "metadata": {},
   "outputs": [],
   "source": [
    "dataframe_copy = dataframe_result.copy()\n",
    "dataframe_copy.insert(3, 'hPa', 0)"
   ]
  },
  {
   "cell_type": "code",
   "execution_count": 68,
   "metadata": {},
   "outputs": [
    {
     "name": "stderr",
     "output_type": "stream",
     "text": [
      "C:\\Users\\caspe\\AppData\\Local\\Temp\\ipykernel_16812\\1013819726.py:9: SettingWithCopyWarning: \n",
      "A value is trying to be set on a copy of a slice from a DataFrame\n",
      "\n",
      "See the caveats in the documentation: https://pandas.pydata.org/pandas-docs/stable/user_guide/indexing.html#returning-a-view-versus-a-copy\n",
      "  hpa_row.iloc[0][index] = float(hpa_row.iloc[0][index])\n"
     ]
    },
    {
     "ename": "KeyboardInterrupt",
     "evalue": "",
     "output_type": "error",
     "traceback": [
      "\u001b[1;31m---------------------------------------------------------------------------\u001b[0m",
      "\u001b[1;31mFileNotFoundError\u001b[0m                         Traceback (most recent call last)",
      "File \u001b[1;32m~\\AppData\\Local\\Programs\\Python\\Python39\\lib\\linecache.py:72\u001b[0m, in \u001b[0;36mcheckcache\u001b[1;34m(filename)\u001b[0m\n\u001b[0;32m     <a href='file:///c%3A/Users/caspe/AppData/Local/Programs/Python/Python39/lib/linecache.py?line=70'>71</a>\u001b[0m \u001b[39mtry\u001b[39;00m:\n\u001b[1;32m---> <a href='file:///c%3A/Users/caspe/AppData/Local/Programs/Python/Python39/lib/linecache.py?line=71'>72</a>\u001b[0m     stat \u001b[39m=\u001b[39m os\u001b[39m.\u001b[39;49mstat(fullname)\n\u001b[0;32m     <a href='file:///c%3A/Users/caspe/AppData/Local/Programs/Python/Python39/lib/linecache.py?line=72'>73</a>\u001b[0m \u001b[39mexcept\u001b[39;00m \u001b[39mOSError\u001b[39;00m:\n",
      "\u001b[1;31mFileNotFoundError\u001b[0m: [WinError 3] The system cannot find the path specified: 'C:\\\\Users\\\\caspe\\\\AppData\\\\Local\\\\Temp\\\\ipykernel_16812\\\\1013819726.py'",
      "\nDuring handling of the above exception, another exception occurred:\n",
      "\u001b[1;31mKeyboardInterrupt\u001b[0m                         Traceback (most recent call last)",
      "\u001b[1;32mc:\\Users\\caspe\\OneDrive\\Documents\\Universitet\\Year 2\\II1302 Projects and Project Methods\\Weather-Predictor\\Backend\\Machine Learning\\data_fitter.ipynb Cell 8'\u001b[0m in \u001b[0;36m<cell line: 3>\u001b[1;34m()\u001b[0m\n\u001b[0;32m      <a href='vscode-notebook-cell:/c%3A/Users/caspe/OneDrive/Documents/Universitet/Year%202/II1302%20Projects%20and%20Project%20Methods/Weather-Predictor/Backend/Machine%20Learning/data_fitter.ipynb#ch0000007?line=5'>6</a>\u001b[0m length \u001b[39m=\u001b[39m \u001b[39m0\u001b[39m\n\u001b[0;32m      <a href='vscode-notebook-cell:/c%3A/Users/caspe/OneDrive/Documents/Universitet/Year%202/II1302%20Projects%20and%20Project%20Methods/Weather-Predictor/Backend/Machine%20Learning/data_fitter.ipynb#ch0000007?line=7'>8</a>\u001b[0m \u001b[39mfor\u001b[39;00m index \u001b[39min\u001b[39;00m \u001b[39mrange\u001b[39m(\u001b[39m1\u001b[39m, \u001b[39mlen\u001b[39m(hpa_row\u001b[39m.\u001b[39miloc[\u001b[39m0\u001b[39m])):\n\u001b[1;32m----> <a href='vscode-notebook-cell:/c%3A/Users/caspe/OneDrive/Documents/Universitet/Year%202/II1302%20Projects%20and%20Project%20Methods/Weather-Predictor/Backend/Machine%20Learning/data_fitter.ipynb#ch0000007?line=8'>9</a>\u001b[0m     hpa_row\u001b[39m.\u001b[39miloc[\u001b[39m0\u001b[39m][index] \u001b[39m=\u001b[39m \u001b[39mfloat\u001b[39m(hpa_row\u001b[39m.\u001b[39miloc[\u001b[39m0\u001b[39m][index])\n\u001b[0;32m     <a href='vscode-notebook-cell:/c%3A/Users/caspe/OneDrive/Documents/Universitet/Year%202/II1302%20Projects%20and%20Project%20Methods/Weather-Predictor/Backend/Machine%20Learning/data_fitter.ipynb#ch0000007?line=9'>10</a>\u001b[0m     \u001b[39mif\u001b[39;00m math\u001b[39m.\u001b[39misnan(hpa_row\u001b[39m.\u001b[39miloc[\u001b[39m0\u001b[39m][index]):\n\u001b[0;32m     <a href='vscode-notebook-cell:/c%3A/Users/caspe/OneDrive/Documents/Universitet/Year%202/II1302%20Projects%20and%20Project%20Methods/Weather-Predictor/Backend/Machine%20Learning/data_fitter.ipynb#ch0000007?line=10'>11</a>\u001b[0m         length \u001b[39m+\u001b[39m\u001b[39m=\u001b[39m \u001b[39m1\u001b[39m\n",
      "File \u001b[1;32mc:\\Users\\caspe\\OneDrive\\Documents\\Universitet\\Year 2\\II1302 Projects and Project Methods\\Weather-Predictor\\Backend\\Machine Learning\\venv\\lib\\site-packages\\pandas\\core\\series.py:1075\u001b[0m, in \u001b[0;36mSeries.__setitem__\u001b[1;34m(self, key, value)\u001b[0m\n\u001b[0;32m   <a href='file:///c%3A/Users/caspe/OneDrive/Documents/Universitet/Year%202/II1302%20Projects%20and%20Project%20Methods/Weather-Predictor/Backend/Machine%20Learning/venv/lib/site-packages/pandas/core/series.py?line=1072'>1073</a>\u001b[0m check_deprecated_indexers(key)\n\u001b[0;32m   <a href='file:///c%3A/Users/caspe/OneDrive/Documents/Universitet/Year%202/II1302%20Projects%20and%20Project%20Methods/Weather-Predictor/Backend/Machine%20Learning/venv/lib/site-packages/pandas/core/series.py?line=1073'>1074</a>\u001b[0m key \u001b[39m=\u001b[39m com\u001b[39m.\u001b[39mapply_if_callable(key, \u001b[39mself\u001b[39m)\n\u001b[1;32m-> <a href='file:///c%3A/Users/caspe/OneDrive/Documents/Universitet/Year%202/II1302%20Projects%20and%20Project%20Methods/Weather-Predictor/Backend/Machine%20Learning/venv/lib/site-packages/pandas/core/series.py?line=1074'>1075</a>\u001b[0m cacher_needs_updating \u001b[39m=\u001b[39m \u001b[39mself\u001b[39;49m\u001b[39m.\u001b[39;49m_check_is_chained_assignment_possible()\n\u001b[0;32m   <a href='file:///c%3A/Users/caspe/OneDrive/Documents/Universitet/Year%202/II1302%20Projects%20and%20Project%20Methods/Weather-Predictor/Backend/Machine%20Learning/venv/lib/site-packages/pandas/core/series.py?line=1076'>1077</a>\u001b[0m \u001b[39mif\u001b[39;00m key \u001b[39mis\u001b[39;00m \u001b[39mEllipsis\u001b[39m:\n\u001b[0;32m   <a href='file:///c%3A/Users/caspe/OneDrive/Documents/Universitet/Year%202/II1302%20Projects%20and%20Project%20Methods/Weather-Predictor/Backend/Machine%20Learning/venv/lib/site-packages/pandas/core/series.py?line=1077'>1078</a>\u001b[0m     key \u001b[39m=\u001b[39m \u001b[39mslice\u001b[39m(\u001b[39mNone\u001b[39;00m)\n",
      "File \u001b[1;32mc:\\Users\\caspe\\OneDrive\\Documents\\Universitet\\Year 2\\II1302 Projects and Project Methods\\Weather-Predictor\\Backend\\Machine Learning\\venv\\lib\\site-packages\\pandas\\core\\series.py:1258\u001b[0m, in \u001b[0;36mSeries._check_is_chained_assignment_possible\u001b[1;34m(self)\u001b[0m\n\u001b[0;32m   <a href='file:///c%3A/Users/caspe/OneDrive/Documents/Universitet/Year%202/II1302%20Projects%20and%20Project%20Methods/Weather-Predictor/Backend/Machine%20Learning/venv/lib/site-packages/pandas/core/series.py?line=1255'>1256</a>\u001b[0m         \u001b[39mself\u001b[39m\u001b[39m.\u001b[39m_check_setitem_copy(t\u001b[39m=\u001b[39m\u001b[39m\"\u001b[39m\u001b[39mreferent\u001b[39m\u001b[39m\"\u001b[39m, force\u001b[39m=\u001b[39m\u001b[39mTrue\u001b[39;00m)\n\u001b[0;32m   <a href='file:///c%3A/Users/caspe/OneDrive/Documents/Universitet/Year%202/II1302%20Projects%20and%20Project%20Methods/Weather-Predictor/Backend/Machine%20Learning/venv/lib/site-packages/pandas/core/series.py?line=1256'>1257</a>\u001b[0m     \u001b[39mreturn\u001b[39;00m \u001b[39mTrue\u001b[39;00m\n\u001b[1;32m-> <a href='file:///c%3A/Users/caspe/OneDrive/Documents/Universitet/Year%202/II1302%20Projects%20and%20Project%20Methods/Weather-Predictor/Backend/Machine%20Learning/venv/lib/site-packages/pandas/core/series.py?line=1257'>1258</a>\u001b[0m \u001b[39mreturn\u001b[39;00m \u001b[39msuper\u001b[39;49m()\u001b[39m.\u001b[39;49m_check_is_chained_assignment_possible()\n",
      "File \u001b[1;32mc:\\Users\\caspe\\OneDrive\\Documents\\Universitet\\Year 2\\II1302 Projects and Project Methods\\Weather-Predictor\\Backend\\Machine Learning\\venv\\lib\\site-packages\\pandas\\core\\generic.py:3945\u001b[0m, in \u001b[0;36mNDFrame._check_is_chained_assignment_possible\u001b[1;34m(self)\u001b[0m\n\u001b[0;32m   <a href='file:///c%3A/Users/caspe/OneDrive/Documents/Universitet/Year%202/II1302%20Projects%20and%20Project%20Methods/Weather-Predictor/Backend/Machine%20Learning/venv/lib/site-packages/pandas/core/generic.py?line=3933'>3934</a>\u001b[0m \u001b[39m\"\"\"\u001b[39;00m\n\u001b[0;32m   <a href='file:///c%3A/Users/caspe/OneDrive/Documents/Universitet/Year%202/II1302%20Projects%20and%20Project%20Methods/Weather-Predictor/Backend/Machine%20Learning/venv/lib/site-packages/pandas/core/generic.py?line=3934'>3935</a>\u001b[0m \u001b[39mCheck if we are a view, have a cacher, and are of mixed type.\u001b[39;00m\n\u001b[0;32m   <a href='file:///c%3A/Users/caspe/OneDrive/Documents/Universitet/Year%202/II1302%20Projects%20and%20Project%20Methods/Weather-Predictor/Backend/Machine%20Learning/venv/lib/site-packages/pandas/core/generic.py?line=3935'>3936</a>\u001b[0m \u001b[39mIf so, then force a setitem_copy check.\u001b[39;00m\n\u001b[1;32m   (...)\u001b[0m\n\u001b[0;32m   <a href='file:///c%3A/Users/caspe/OneDrive/Documents/Universitet/Year%202/II1302%20Projects%20and%20Project%20Methods/Weather-Predictor/Backend/Machine%20Learning/venv/lib/site-packages/pandas/core/generic.py?line=3941'>3942</a>\u001b[0m \u001b[39msetting.\u001b[39;00m\n\u001b[0;32m   <a href='file:///c%3A/Users/caspe/OneDrive/Documents/Universitet/Year%202/II1302%20Projects%20and%20Project%20Methods/Weather-Predictor/Backend/Machine%20Learning/venv/lib/site-packages/pandas/core/generic.py?line=3942'>3943</a>\u001b[0m \u001b[39m\"\"\"\u001b[39;00m\n\u001b[0;32m   <a href='file:///c%3A/Users/caspe/OneDrive/Documents/Universitet/Year%202/II1302%20Projects%20and%20Project%20Methods/Weather-Predictor/Backend/Machine%20Learning/venv/lib/site-packages/pandas/core/generic.py?line=3943'>3944</a>\u001b[0m \u001b[39mif\u001b[39;00m \u001b[39mself\u001b[39m\u001b[39m.\u001b[39m_is_copy:\n\u001b[1;32m-> <a href='file:///c%3A/Users/caspe/OneDrive/Documents/Universitet/Year%202/II1302%20Projects%20and%20Project%20Methods/Weather-Predictor/Backend/Machine%20Learning/venv/lib/site-packages/pandas/core/generic.py?line=3944'>3945</a>\u001b[0m     \u001b[39mself\u001b[39;49m\u001b[39m.\u001b[39;49m_check_setitem_copy(t\u001b[39m=\u001b[39;49m\u001b[39m\"\u001b[39;49m\u001b[39mreferent\u001b[39;49m\u001b[39m\"\u001b[39;49m)\n\u001b[0;32m   <a href='file:///c%3A/Users/caspe/OneDrive/Documents/Universitet/Year%202/II1302%20Projects%20and%20Project%20Methods/Weather-Predictor/Backend/Machine%20Learning/venv/lib/site-packages/pandas/core/generic.py?line=3945'>3946</a>\u001b[0m \u001b[39mreturn\u001b[39;00m \u001b[39mFalse\u001b[39;00m\n",
      "File \u001b[1;32mc:\\Users\\caspe\\OneDrive\\Documents\\Universitet\\Year 2\\II1302 Projects and Project Methods\\Weather-Predictor\\Backend\\Machine Learning\\venv\\lib\\site-packages\\pandas\\core\\generic.py:4018\u001b[0m, in \u001b[0;36mNDFrame._check_setitem_copy\u001b[1;34m(self, t, force)\u001b[0m\n\u001b[0;32m   <a href='file:///c%3A/Users/caspe/OneDrive/Documents/Universitet/Year%202/II1302%20Projects%20and%20Project%20Methods/Weather-Predictor/Backend/Machine%20Learning/venv/lib/site-packages/pandas/core/generic.py?line=4015'>4016</a>\u001b[0m     \u001b[39mraise\u001b[39;00m com\u001b[39m.\u001b[39mSettingWithCopyError(t)\n\u001b[0;32m   <a href='file:///c%3A/Users/caspe/OneDrive/Documents/Universitet/Year%202/II1302%20Projects%20and%20Project%20Methods/Weather-Predictor/Backend/Machine%20Learning/venv/lib/site-packages/pandas/core/generic.py?line=4016'>4017</a>\u001b[0m \u001b[39melif\u001b[39;00m value \u001b[39m==\u001b[39m \u001b[39m\"\u001b[39m\u001b[39mwarn\u001b[39m\u001b[39m\"\u001b[39m:\n\u001b[1;32m-> <a href='file:///c%3A/Users/caspe/OneDrive/Documents/Universitet/Year%202/II1302%20Projects%20and%20Project%20Methods/Weather-Predictor/Backend/Machine%20Learning/venv/lib/site-packages/pandas/core/generic.py?line=4017'>4018</a>\u001b[0m     warnings\u001b[39m.\u001b[39mwarn(t, com\u001b[39m.\u001b[39mSettingWithCopyWarning, stacklevel\u001b[39m=\u001b[39mfind_stack_level())\n",
      "File \u001b[1;32mc:\\Users\\caspe\\OneDrive\\Documents\\Universitet\\Year 2\\II1302 Projects and Project Methods\\Weather-Predictor\\Backend\\Machine Learning\\venv\\lib\\site-packages\\pandas\\util\\_exceptions.py:32\u001b[0m, in \u001b[0;36mfind_stack_level\u001b[1;34m()\u001b[0m\n\u001b[0;32m     <a href='file:///c%3A/Users/caspe/OneDrive/Documents/Universitet/Year%202/II1302%20Projects%20and%20Project%20Methods/Weather-Predictor/Backend/Machine%20Learning/venv/lib/site-packages/pandas/util/_exceptions.py?line=26'>27</a>\u001b[0m \u001b[39mdef\u001b[39;00m \u001b[39mfind_stack_level\u001b[39m() \u001b[39m-\u001b[39m\u001b[39m>\u001b[39m \u001b[39mint\u001b[39m:\n\u001b[0;32m     <a href='file:///c%3A/Users/caspe/OneDrive/Documents/Universitet/Year%202/II1302%20Projects%20and%20Project%20Methods/Weather-Predictor/Backend/Machine%20Learning/venv/lib/site-packages/pandas/util/_exceptions.py?line=27'>28</a>\u001b[0m     \u001b[39m\"\"\"\u001b[39;00m\n\u001b[0;32m     <a href='file:///c%3A/Users/caspe/OneDrive/Documents/Universitet/Year%202/II1302%20Projects%20and%20Project%20Methods/Weather-Predictor/Backend/Machine%20Learning/venv/lib/site-packages/pandas/util/_exceptions.py?line=28'>29</a>\u001b[0m \u001b[39m    Find the first place in the stack that is not inside pandas\u001b[39;00m\n\u001b[0;32m     <a href='file:///c%3A/Users/caspe/OneDrive/Documents/Universitet/Year%202/II1302%20Projects%20and%20Project%20Methods/Weather-Predictor/Backend/Machine%20Learning/venv/lib/site-packages/pandas/util/_exceptions.py?line=29'>30</a>\u001b[0m \u001b[39m    (tests notwithstanding).\u001b[39;00m\n\u001b[0;32m     <a href='file:///c%3A/Users/caspe/OneDrive/Documents/Universitet/Year%202/II1302%20Projects%20and%20Project%20Methods/Weather-Predictor/Backend/Machine%20Learning/venv/lib/site-packages/pandas/util/_exceptions.py?line=30'>31</a>\u001b[0m \u001b[39m    \"\"\"\u001b[39;00m\n\u001b[1;32m---> <a href='file:///c%3A/Users/caspe/OneDrive/Documents/Universitet/Year%202/II1302%20Projects%20and%20Project%20Methods/Weather-Predictor/Backend/Machine%20Learning/venv/lib/site-packages/pandas/util/_exceptions.py?line=31'>32</a>\u001b[0m     stack \u001b[39m=\u001b[39m inspect\u001b[39m.\u001b[39;49mstack()\n\u001b[0;32m     <a href='file:///c%3A/Users/caspe/OneDrive/Documents/Universitet/Year%202/II1302%20Projects%20and%20Project%20Methods/Weather-Predictor/Backend/Machine%20Learning/venv/lib/site-packages/pandas/util/_exceptions.py?line=33'>34</a>\u001b[0m     \u001b[39mimport\u001b[39;00m \u001b[39mpandas\u001b[39;00m \u001b[39mas\u001b[39;00m \u001b[39mpd\u001b[39;00m\n\u001b[0;32m     <a href='file:///c%3A/Users/caspe/OneDrive/Documents/Universitet/Year%202/II1302%20Projects%20and%20Project%20Methods/Weather-Predictor/Backend/Machine%20Learning/venv/lib/site-packages/pandas/util/_exceptions.py?line=35'>36</a>\u001b[0m     pkg_dir \u001b[39m=\u001b[39m os\u001b[39m.\u001b[39mpath\u001b[39m.\u001b[39mdirname(pd\u001b[39m.\u001b[39m\u001b[39m__file__\u001b[39m)\n",
      "File \u001b[1;32m~\\AppData\\Local\\Programs\\Python\\Python39\\lib\\inspect.py:1552\u001b[0m, in \u001b[0;36mstack\u001b[1;34m(context)\u001b[0m\n\u001b[0;32m   <a href='file:///c%3A/Users/caspe/AppData/Local/Programs/Python/Python39/lib/inspect.py?line=1549'>1550</a>\u001b[0m \u001b[39mdef\u001b[39;00m \u001b[39mstack\u001b[39m(context\u001b[39m=\u001b[39m\u001b[39m1\u001b[39m):\n\u001b[0;32m   <a href='file:///c%3A/Users/caspe/AppData/Local/Programs/Python/Python39/lib/inspect.py?line=1550'>1551</a>\u001b[0m     \u001b[39m\"\"\"Return a list of records for the stack above the caller's frame.\"\"\"\u001b[39;00m\n\u001b[1;32m-> <a href='file:///c%3A/Users/caspe/AppData/Local/Programs/Python/Python39/lib/inspect.py?line=1551'>1552</a>\u001b[0m     \u001b[39mreturn\u001b[39;00m getouterframes(sys\u001b[39m.\u001b[39;49m_getframe(\u001b[39m1\u001b[39;49m), context)\n",
      "File \u001b[1;32m~\\AppData\\Local\\Programs\\Python\\Python39\\lib\\inspect.py:1529\u001b[0m, in \u001b[0;36mgetouterframes\u001b[1;34m(frame, context)\u001b[0m\n\u001b[0;32m   <a href='file:///c%3A/Users/caspe/AppData/Local/Programs/Python/Python39/lib/inspect.py?line=1526'>1527</a>\u001b[0m framelist \u001b[39m=\u001b[39m []\n\u001b[0;32m   <a href='file:///c%3A/Users/caspe/AppData/Local/Programs/Python/Python39/lib/inspect.py?line=1527'>1528</a>\u001b[0m \u001b[39mwhile\u001b[39;00m frame:\n\u001b[1;32m-> <a href='file:///c%3A/Users/caspe/AppData/Local/Programs/Python/Python39/lib/inspect.py?line=1528'>1529</a>\u001b[0m     frameinfo \u001b[39m=\u001b[39m (frame,) \u001b[39m+\u001b[39m getframeinfo(frame, context)\n\u001b[0;32m   <a href='file:///c%3A/Users/caspe/AppData/Local/Programs/Python/Python39/lib/inspect.py?line=1529'>1530</a>\u001b[0m     framelist\u001b[39m.\u001b[39mappend(FrameInfo(\u001b[39m*\u001b[39mframeinfo))\n\u001b[0;32m   <a href='file:///c%3A/Users/caspe/AppData/Local/Programs/Python/Python39/lib/inspect.py?line=1530'>1531</a>\u001b[0m     frame \u001b[39m=\u001b[39m frame\u001b[39m.\u001b[39mf_back\n",
      "File \u001b[1;32m~\\AppData\\Local\\Programs\\Python\\Python39\\lib\\inspect.py:1503\u001b[0m, in \u001b[0;36mgetframeinfo\u001b[1;34m(frame, context)\u001b[0m\n\u001b[0;32m   <a href='file:///c%3A/Users/caspe/AppData/Local/Programs/Python/Python39/lib/inspect.py?line=1500'>1501</a>\u001b[0m start \u001b[39m=\u001b[39m lineno \u001b[39m-\u001b[39m \u001b[39m1\u001b[39m \u001b[39m-\u001b[39m context\u001b[39m/\u001b[39m\u001b[39m/\u001b[39m\u001b[39m2\u001b[39m\n\u001b[0;32m   <a href='file:///c%3A/Users/caspe/AppData/Local/Programs/Python/Python39/lib/inspect.py?line=1501'>1502</a>\u001b[0m \u001b[39mtry\u001b[39;00m:\n\u001b[1;32m-> <a href='file:///c%3A/Users/caspe/AppData/Local/Programs/Python/Python39/lib/inspect.py?line=1502'>1503</a>\u001b[0m     lines, lnum \u001b[39m=\u001b[39m findsource(frame)\n\u001b[0;32m   <a href='file:///c%3A/Users/caspe/AppData/Local/Programs/Python/Python39/lib/inspect.py?line=1503'>1504</a>\u001b[0m \u001b[39mexcept\u001b[39;00m \u001b[39mOSError\u001b[39;00m:\n\u001b[0;32m   <a href='file:///c%3A/Users/caspe/AppData/Local/Programs/Python/Python39/lib/inspect.py?line=1504'>1505</a>\u001b[0m     lines \u001b[39m=\u001b[39m index \u001b[39m=\u001b[39m \u001b[39mNone\u001b[39;00m\n",
      "File \u001b[1;32m~\\AppData\\Local\\Programs\\Python\\Python39\\lib\\inspect.py:820\u001b[0m, in \u001b[0;36mfindsource\u001b[1;34m(object)\u001b[0m\n\u001b[0;32m    <a href='file:///c%3A/Users/caspe/AppData/Local/Programs/Python/Python39/lib/inspect.py?line=816'>817</a>\u001b[0m file \u001b[39m=\u001b[39m getsourcefile(\u001b[39mobject\u001b[39m)\n\u001b[0;32m    <a href='file:///c%3A/Users/caspe/AppData/Local/Programs/Python/Python39/lib/inspect.py?line=817'>818</a>\u001b[0m \u001b[39mif\u001b[39;00m file:\n\u001b[0;32m    <a href='file:///c%3A/Users/caspe/AppData/Local/Programs/Python/Python39/lib/inspect.py?line=818'>819</a>\u001b[0m     \u001b[39m# Invalidate cache if needed.\u001b[39;00m\n\u001b[1;32m--> <a href='file:///c%3A/Users/caspe/AppData/Local/Programs/Python/Python39/lib/inspect.py?line=819'>820</a>\u001b[0m     linecache\u001b[39m.\u001b[39;49mcheckcache(file)\n\u001b[0;32m    <a href='file:///c%3A/Users/caspe/AppData/Local/Programs/Python/Python39/lib/inspect.py?line=820'>821</a>\u001b[0m \u001b[39melse\u001b[39;00m:\n\u001b[0;32m    <a href='file:///c%3A/Users/caspe/AppData/Local/Programs/Python/Python39/lib/inspect.py?line=821'>822</a>\u001b[0m     file \u001b[39m=\u001b[39m getfile(\u001b[39mobject\u001b[39m)\n",
      "File \u001b[1;32mc:\\Users\\caspe\\OneDrive\\Documents\\Universitet\\Year 2\\II1302 Projects and Project Methods\\Weather-Predictor\\Backend\\Machine Learning\\venv\\lib\\site-packages\\IPython\\core\\compilerop.py:193\u001b[0m, in \u001b[0;36mcheck_linecache_ipython\u001b[1;34m(*args)\u001b[0m\n\u001b[0;32m    <a href='file:///c%3A/Users/caspe/OneDrive/Documents/Universitet/Year%202/II1302%20Projects%20and%20Project%20Methods/Weather-Predictor/Backend/Machine%20Learning/venv/lib/site-packages/IPython/core/compilerop.py?line=189'>190</a>\u001b[0m \u001b[39m\"\"\"Call linecache.checkcache() safely protecting our cached values.\u001b[39;00m\n\u001b[0;32m    <a href='file:///c%3A/Users/caspe/OneDrive/Documents/Universitet/Year%202/II1302%20Projects%20and%20Project%20Methods/Weather-Predictor/Backend/Machine%20Learning/venv/lib/site-packages/IPython/core/compilerop.py?line=190'>191</a>\u001b[0m \u001b[39m\"\"\"\u001b[39;00m\n\u001b[0;32m    <a href='file:///c%3A/Users/caspe/OneDrive/Documents/Universitet/Year%202/II1302%20Projects%20and%20Project%20Methods/Weather-Predictor/Backend/Machine%20Learning/venv/lib/site-packages/IPython/core/compilerop.py?line=191'>192</a>\u001b[0m \u001b[39m# First call the original checkcache as intended\u001b[39;00m\n\u001b[1;32m--> <a href='file:///c%3A/Users/caspe/OneDrive/Documents/Universitet/Year%202/II1302%20Projects%20and%20Project%20Methods/Weather-Predictor/Backend/Machine%20Learning/venv/lib/site-packages/IPython/core/compilerop.py?line=192'>193</a>\u001b[0m linecache\u001b[39m.\u001b[39;49m_checkcache_ori(\u001b[39m*\u001b[39;49margs)\n\u001b[0;32m    <a href='file:///c%3A/Users/caspe/OneDrive/Documents/Universitet/Year%202/II1302%20Projects%20and%20Project%20Methods/Weather-Predictor/Backend/Machine%20Learning/venv/lib/site-packages/IPython/core/compilerop.py?line=193'>194</a>\u001b[0m \u001b[39m# Then, update back the cache with our data, so that tracebacks related\u001b[39;00m\n\u001b[0;32m    <a href='file:///c%3A/Users/caspe/OneDrive/Documents/Universitet/Year%202/II1302%20Projects%20and%20Project%20Methods/Weather-Predictor/Backend/Machine%20Learning/venv/lib/site-packages/IPython/core/compilerop.py?line=194'>195</a>\u001b[0m \u001b[39m# to our compiled codes can be produced.\u001b[39;00m\n\u001b[0;32m    <a href='file:///c%3A/Users/caspe/OneDrive/Documents/Universitet/Year%202/II1302%20Projects%20and%20Project%20Methods/Weather-Predictor/Backend/Machine%20Learning/venv/lib/site-packages/IPython/core/compilerop.py?line=195'>196</a>\u001b[0m linecache\u001b[39m.\u001b[39mcache\u001b[39m.\u001b[39mupdate(linecache\u001b[39m.\u001b[39m_ipython_cache)\n",
      "File \u001b[1;32m~\\AppData\\Local\\Programs\\Python\\Python39\\lib\\linecache.py:72\u001b[0m, in \u001b[0;36mcheckcache\u001b[1;34m(filename)\u001b[0m\n\u001b[0;32m     <a href='file:///c%3A/Users/caspe/AppData/Local/Programs/Python/Python39/lib/linecache.py?line=69'>70</a>\u001b[0m     \u001b[39mcontinue\u001b[39;00m   \u001b[39m# no-op for files loaded via a __loader__\u001b[39;00m\n\u001b[0;32m     <a href='file:///c%3A/Users/caspe/AppData/Local/Programs/Python/Python39/lib/linecache.py?line=70'>71</a>\u001b[0m \u001b[39mtry\u001b[39;00m:\n\u001b[1;32m---> <a href='file:///c%3A/Users/caspe/AppData/Local/Programs/Python/Python39/lib/linecache.py?line=71'>72</a>\u001b[0m     stat \u001b[39m=\u001b[39m os\u001b[39m.\u001b[39;49mstat(fullname)\n\u001b[0;32m     <a href='file:///c%3A/Users/caspe/AppData/Local/Programs/Python/Python39/lib/linecache.py?line=72'>73</a>\u001b[0m \u001b[39mexcept\u001b[39;00m \u001b[39mOSError\u001b[39;00m:\n\u001b[0;32m     <a href='file:///c%3A/Users/caspe/AppData/Local/Programs/Python/Python39/lib/linecache.py?line=73'>74</a>\u001b[0m     cache\u001b[39m.\u001b[39mpop(filename, \u001b[39mNone\u001b[39;00m)\n",
      "\u001b[1;31mKeyboardInterrupt\u001b[0m: "
     ]
    }
   ],
   "source": [
    "import math\n",
    "\n",
    "for index, row in dataframe_copy.iterrows():\n",
    "    hpa_row = dataframe_hpa.loc[dataframe_hpa['date'] == row['Date'].date()]\n",
    "    mean = 0\n",
    "    length = 0\n",
    "\n",
    "    for index in range(1, len(hpa_row.iloc[0])):\n",
    "        hpa_row.iloc[0][index] = float(hpa_row.iloc[0][index])\n",
    "        if math.isnan(hpa_row.iloc[0][index]):\n",
    "            length += 1\n",
    "            mean += value\n",
    "\n",
    "    dataframe_copy.at[index, 'hPa'] = mean / length\n",
    "\n",
    "    if index % 5000 == 0:\n",
    "        print(f'{index}/{len(dataframe_copy)}')\n"
   ]
  },
  {
   "cell_type": "code",
   "execution_count": 37,
   "metadata": {},
   "outputs": [
    {
     "name": "stdout",
     "output_type": "stream",
     "text": [
      "2022-04-17\n"
     ]
    }
   ],
   "source": [
    "print(datetime.datetime.today().date())"
   ]
  }
 ],
 "metadata": {
  "interpreter": {
   "hash": "db5b14a1bf23f673dbb589bf56db03de2527819ab1c9bbe46a7c5fe1b1b5af0e"
  },
  "kernelspec": {
   "display_name": "Python 3.9.7 ('venv': venv)",
   "language": "python",
   "name": "python3"
  },
  "language_info": {
   "codemirror_mode": {
    "name": "ipython",
    "version": 3
   },
   "file_extension": ".py",
   "mimetype": "text/x-python",
   "name": "python",
   "nbconvert_exporter": "python",
   "pygments_lexer": "ipython3",
   "version": "3.9.7"
  },
  "orig_nbformat": 4
 },
 "nbformat": 4,
 "nbformat_minor": 2
}
